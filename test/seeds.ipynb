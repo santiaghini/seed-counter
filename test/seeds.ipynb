{
 "cells": [
  {
   "attachments": {},
   "cell_type": "markdown",
   "metadata": {},
   "source": [
    "# Testing seeds"
   ]
  },
  {
   "cell_type": "code",
   "execution_count": 5,
   "metadata": {},
   "outputs": [],
   "source": [
    "import cv2\n",
    "import numpy as np\n",
    "import matplotlib.pyplot as plt\n",
    "\n",
    "import sys\n",
    "sys.path.insert(0, '..')\n",
    "from utils import plot_full"
   ]
  },
  {
   "cell_type": "code",
   "execution_count": 6,
   "metadata": {},
   "outputs": [],
   "source": [
    "image_path = \"images/VZ075_RUBY mCherry 800ms exposure.tif\""
   ]
  },
  {
   "cell_type": "code",
   "execution_count": null,
   "metadata": {},
   "outputs": [],
   "source": [
    "# Load the image\n",
    "image = cv2.imread(image_path)\n",
    "\n",
    "# Convert the image to grayscale for initial filtering\n",
    "gray_image = cv2.cvtColor(image, cv2.COLOR_BGR2GRAY)\n",
    "\n",
    "# Invert the image and threshold to make white-ish areas black\n",
    "_, inverted_thresholded = cv2.threshold(gray_image, 200, 255, cv2.THRESH_BINARY_INV)\n",
    "\n",
    "# Use the inverted thresholded image as a mask on the original image\n",
    "masked_image = cv2.bitwise_and(image, image, mask=inverted_thresholded)\n",
    "\n",
    "# Split the masked image into B, G, R channels\n",
    "_, _, red_channel = cv2.split(masked_image)\n",
    "\n",
    "# Threshold the red channel image to isolate bright red regions\n",
    "_, thresholded = cv2.threshold(red_channel, 240, 255, cv2.THRESH_BINARY+cv2.THRESH_OTSU)\n",
    "\n",
    "# noise removal\n",
    "kernel = np.ones((3,3),np.uint8)\n",
    "opening = cv2.morphologyEx(thresholded,cv2.MORPH_OPEN, kernel, iterations = 2)\n",
    "\n",
    "# sure background area\n",
    "sure_bg = cv2.dilate(opening,kernel,iterations=3)"
   ]
  }
 ],
 "metadata": {
  "kernelspec": {
   "display_name": "brophy",
   "language": "python",
   "name": "python3"
  },
  "language_info": {
   "codemirror_mode": {
    "name": "ipython",
    "version": 3
   },
   "file_extension": ".py",
   "mimetype": "text/x-python",
   "name": "python",
   "nbconvert_exporter": "python",
   "pygments_lexer": "ipython3",
   "version": "3.11.4"
  },
  "orig_nbformat": 4
 },
 "nbformat": 4,
 "nbformat_minor": 2
}
